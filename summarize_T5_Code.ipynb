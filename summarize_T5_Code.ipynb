{
 "nbformat": 4,
 "nbformat_minor": 0,
 "metadata": {
  "colab": {
   "provenance": [],
   "authorship_tag": "ABX9TyP5JFGICb5oAoto9HvC13GX",
   "include_colab_link": true
  },
  "kernelspec": {
   "name": "python3",
   "display_name": "Python 3"
  },
  "language_info": {
   "name": "python"
  }
 },
 "cells": [
  {
   "cell_type": "markdown",
   "metadata": {
    "id": "view-in-github",
    "colab_type": "text"
   },
   "source": [
    "<a href=\"https://colab.research.google.com/github/Polticsmax/Summarization-using-T5/blob/main/summarize_T5.ipynb\" target=\"_parent\"><img src=\"https://colab.research.google.com/assets/colab-badge.svg\" alt=\"Open In Colab\"/></a>"
   ]
  },
  {
   "cell_type": "code",
   "execution_count": null,
   "metadata": {
    "colab": {
     "base_uri": "https://localhost:8080/",
     "height": 318,
     "referenced_widgets": [
      "14780c7153964b25b69e630cf4304759",
      "69149543d3764f6dbb47a9694b8eaeec",
      "dc91c2d987a54ece971578ef237bccc9",
      "41cafdd169934a41866ce8cfef586813",
      "ada4f5a4f7e64e27b5332afe081a0c50",
      "d013f45c63f64b50a37d445ede1380b3",
      "0fdae07563de4dbebf2ea7c090136697",
      "21cb9330134a43f7bf9ac9e41371a83e",
      "344c8e4263834190aa58daa4d59aad93",
      "5c4e18dcad9445bc854de67b0b624230",
      "76a7ff93bd6b43038d166fd009fb8023",
      "c0206e8a800b4a399fe46c3e27ff0451",
      "e6fcf56c015c402f9399611a9a962b2a",
      "bbc6774c44a34d568b49f3a4e637a6d3",
      "7cfab61400634b7487f0d7b70f3bc977",
      "9a4ef7a5ace04ca5bb87e531a5cd9bc6",
      "b598dff8cdca496a93e0a5ae763ebd0f",
      "e011405e290f4fb1a7ddcb16ff13a5d5",
      "c86b66a832884a528ab5965b93e580ea",
      "2a8c751ad4ae4893be1809bf90ea670c",
      "245032edca284a84a9f88c039bd2e2d7",
      "c6ebe3cde7fe482d8042eb1924b49921",
      "2dd8ba4fb25840869efb875bfef70cd4",
      "1fd3de54737a44f884ce46ed964e7fa0",
      "c6014b1694cf4cf1a87b85239ab4c2b9",
      "97eabc1cc1394f44b6dcf73cb9cbe137",
      "444e43344eea4989802da043061d24dd",
      "da1afecad41546b3ac2436188704fd7d",
      "89f849987bd74260a76c3a69439cc243",
      "d7be81763a344debafd8dad30f9b90af",
      "f641b5a3f08e42888dde5289a4b9b2fb",
      "3c0db15372974da4b0a69433b7c85b2d",
      "6afdaea9fd494ab487927a7ed116e3b6",
      "bc70dd99305642cfb92297a52017b9ca",
      "64f2e188532541f2847a5312e56a9ed6",
      "79078431a69849668fbf0a760aecdaba",
      "b62a61f28a764a9780c6dbae7582edac",
      "4054402b54574c71bfdaaffce870796f",
      "06c17806358f4a09a6b4ec3801e467ae",
      "f717c48c3d2f4427b2922bd2fcdfd220",
      "e5193ccf5d134761adb17be58e661522",
      "22f0df8c2da24b5e9d1c1d418760964c",
      "e62ea7d61de044b5bf2bc9f1689fe8b3",
      "8a277e5f748840339d7c7479a48872ba",
      "67863695abc84687a1f342124633c183",
      "a167b92534b44871ae483c57e110f945",
      "9efb23a44ab54de39f5054cef60c097e",
      "9f5beef2ea2a4c399402742e8a13f3a4",
      "0b29207b0b8a4a3f95ab18bcf40354a2",
      "677607363b37410aa0efb7c1d2b634f4",
      "55a06873455e4515abae3a4766625874",
      "f01213dacdc14e5cab2c98e6aca7d818",
      "b9d3ef95a1464453bce14ab2b01f68db",
      "7cc71010c2434402b4a1c4d629e0ba54",
      "cbeedfc03b184fcbb2fa64a06f918399"
     ]
    },
    "id": "h290JtSbCWLi",
    "outputId": "9dc317e4-45a4-4ac7-dc39-0d2a20a28be6"
   },
   "outputs": [
    {
     "output_type": "stream",
     "name": "stderr",
     "text": [
      "/usr/local/lib/python3.11/dist-packages/huggingface_hub/utils/_auth.py:94: UserWarning: \n",
      "The secret `HF_TOKEN` does not exist in your Colab secrets.\n",
      "To authenticate with the Hugging Face Hub, create a token in your settings tab (https://huggingface.co/settings/tokens), set it as secret in your Google Colab and restart your session.\n",
      "You will be able to reuse this secret in all of your notebooks.\n",
      "Please note that authentication is recommended but still optional to access public models or datasets.\n",
      "  warnings.warn(\n"
     ]
    },
    {
     "output_type": "display_data",
     "data": {
      "text/plain": [
       "spiece.model:   0%|          | 0.00/792k [00:00<?, ?B/s]"
      ],
      "application/vnd.jupyter.widget-view+json": {
       "version_major": 2,
       "version_minor": 0,
       "model_id": "14780c7153964b25b69e630cf4304759"
      }
     },
     "metadata": {}
    },
    {
     "output_type": "display_data",
     "data": {
      "text/plain": [
       "tokenizer.json:   0%|          | 0.00/1.39M [00:00<?, ?B/s]"
      ],
      "application/vnd.jupyter.widget-view+json": {
       "version_major": 2,
       "version_minor": 0,
       "model_id": "c0206e8a800b4a399fe46c3e27ff0451"
      }
     },
     "metadata": {}
    },
    {
     "output_type": "display_data",
     "data": {
      "text/plain": [
       "config.json:   0%|          | 0.00/1.21k [00:00<?, ?B/s]"
      ],
      "application/vnd.jupyter.widget-view+json": {
       "version_major": 2,
       "version_minor": 0,
       "model_id": "2dd8ba4fb25840869efb875bfef70cd4"
      }
     },
     "metadata": {}
    },
    {
     "output_type": "stream",
     "name": "stderr",
     "text": [
      "You are using the default legacy behaviour of the <class 'transformers.models.t5.tokenization_t5.T5Tokenizer'>. This is expected, and simply means that the `legacy` (previous) behavior will be used so nothing changes for you. If you want to use the new behaviour, set `legacy=False`. This should only be set if you understand what it means, and thoroughly read the reason why this was added as explained in https://github.com/huggingface/transformers/pull/24565\n"
     ]
    },
    {
     "output_type": "display_data",
     "data": {
      "text/plain": [
       "model.safetensors:   0%|          | 0.00/892M [00:00<?, ?B/s]"
      ],
      "application/vnd.jupyter.widget-view+json": {
       "version_major": 2,
       "version_minor": 0,
       "model_id": "bc70dd99305642cfb92297a52017b9ca"
      }
     },
     "metadata": {}
    },
    {
     "output_type": "display_data",
     "data": {
      "text/plain": [
       "generation_config.json:   0%|          | 0.00/147 [00:00<?, ?B/s]"
      ],
      "application/vnd.jupyter.widget-view+json": {
       "version_major": 2,
       "version_minor": 0,
       "model_id": "67863695abc84687a1f342124633c183"
      }
     },
     "metadata": {}
    }
   ],
   "source": [
    "from transformers import T5Tokenizer, T5ForConditionalGeneration\n",
    "\n",
    "# loading the  pre-trained T5 model and tokenizer.\n",
    "model_name = \"t5-base\" # Choosing the pretrained model t5-base\n",
    "tokenizer = T5Tokenizer.from_pretrained(model_name)\n",
    "model = T5ForConditionalGeneration.from_pretrained(model_name)"
   ]
  },
  {
   "cell_type": "code",
   "source": [
    "text = \"\"\"\n",
    "Operation Sindhoor marked a decisive and bold retaliation by the Indian Armed Forces deep into Pakistan-occupied territory, targeting and eliminating nine critical terror hubs that had been operating with impunity. Initiated after a series of provocations and cross-border attacks on Indian soil, the operation was executed with clinical precision by the Indian Army, Air Force, and special forces, showcasing joint operational excellence. These terror hubs were located in highly fortified regions of Pakistan-occupied Kashmir and beyond, supported covertly by hostile elements within Pakistan's security apparatus. In retaliation, Pakistan launched a wave of Turkish and Chinese-made suicide drones, including the Bayraktar TB2 and Wing Loong II systems, aimed at penetrating Indian defense installations and causing widespread disruption. However, India's advanced air defense grid, built on a combination of indigenous and imported systems, stood as an impenetrable shield. The Akash Surface-to-Air Missile (SAM) system, developed by DRDO, played a frontline role in neutralizing multiple incoming drones, while the Medium Range Surface-to-Air Missile (MRSAM) system, co-developed with Israel, provided mid-range protection. Additionally, the deployment of the Russian-made S-400 Triumf system offered unmatched long-range interception capabilities, ensuring none of the hostile drones reached their targets. This seamless integration of Indian and foreign technologies demonstrated India's growing self-reliance in defense and its ability to respond to asymmetric threats with overwhelming force. Operation Sindhoor not only showcased India's tactical superiority and indigenized defense strength but also sent a stern message across the border: any aggression will be met with decisive and unforgiving retaliation.\n",
    "\"\"\"\n",
    "# prepare the text for the T5 model by adding the \"summarize:\" as the prefix.\n",
    "input_text = \"summarize: \" + text"
   ],
   "metadata": {
    "id": "4k2i4phDCaVV"
   },
   "execution_count": null,
   "outputs": []
  },
  {
   "cell_type": "code",
   "source": [
    "# tokenize the input text\n",
    "input_ids = tokenizer.encode(input_text,\n",
    "                             return_tensors=\"pt\",\n",
    "                             max_length=512,\n",
    "                             truncation=True)"
   ],
   "metadata": {
    "id": "5O-UNC1lCuk7"
   },
   "execution_count": null,
   "outputs": []
  },
  {
   "cell_type": "code",
   "source": [
    "# generating  the summary.\n",
    "summary_ids = model.generate(\n",
    "    input_ids,\n",
    "    max_length=100,   # maximum length of the summary\n",
    "    num_beams=4,     # beam search for better results\n",
    "    length_penalty=2.0,  # length penalty to avoid lengthy summaries\n",
    "    early_stopping=True\n",
    ")"
   ],
   "metadata": {
    "id": "ZghwxSm2CxQi"
   },
   "execution_count": null,
   "outputs": []
  },
  {
   "cell_type": "code",
   "source": [
    "# decoding the summary.\n",
    "summary = tokenizer.decode(summary_ids[0], skip_special_tokens=True)\n",
    "\n",
    "print(\"Summary:\", summary)\n",
    "words = summary.split() # Split the summary into a list of words\n",
    "print(\"Summary word count:\", len(words)) # Print the length of the word list"
   ],
   "metadata": {
    "colab": {
     "base_uri": "https://localhost:8080/"
    },
    "id": "v_QaFfMTC2pP",
    "outputId": "11d8f376-9f26-4944-eaa9-913f0ea70fb9"
   },
   "execution_count": null,
   "outputs": [
    {
     "output_type": "stream",
     "name": "stdout",
     "text": [
      "Summary: the operation was executed with clinical precision by the Indian Army, Air Force, and special forces . in retaliation, Pakistan launched a wave of Turkish and Chinese-made suicide drones . india's advanced air defense grid, built on a combination of indigenous and imported systems, stood as an impenetrable shield.\n",
      "Summary word count: 49\n"
     ]
    }
   ]
  },
  {
   "cell_type": "code",
   "source": [],
   "metadata": {
    "id": "APk1ZSw4C9M8"
   },
   "execution_count": null,
   "outputs": []
  }
 ]
}